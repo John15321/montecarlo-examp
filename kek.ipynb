{
 "cells": [
  {
   "cell_type": "code",
   "execution_count": 1,
   "metadata": {},
   "outputs": [
    {
     "data": {
      "image/png": "[encoded data removed]",
      "text/plain": [
       "<Figure size 432x288 with 1 Axes>"
      ]
     },
     "metadata": {
      "needs_background": "light"
     },
     "output_type": "display_data"
    }
   ],
   "source": [
    "import numpy as np\n",
    "import matplotlib.pyplot as plt\n",
    "\n",
    "x = np.linspace(0, 10, 150)\n",
    "y = np.linspace(0, 10, 150)\n",
    "\n",
    "xx, yy = np.meshgrid(x, y)\n",
    "\n",
    "C = ((xx-5)**2+(yy-4)**2-10)**3-11*(xx-5)**2*(yy-4)**3\n",
    "\n",
    "rands = np.random.random(size=(100,2))*10\n",
    "# plt.scatter(rands[:][:,0],rands[:][:,1])\n",
    "\n",
    "figure, axes = plt.subplots()\n",
    "\n",
    "axes.scatter(rands[:][:,0],rands[:][:,1])\n",
    "axes.contour(xx, yy, C, [0])\n",
    "axes.set_aspect(1)\n",
    "\n",
    "plt.title(\"Heart\")\n",
    "plt.show()\n"
   ]
  },
  {
   "cell_type": "code",
   "execution_count": 2,
   "metadata": {},
   "outputs": [
    {
     "data": {
      "text/plain": [
       "array([[3, 1, 1, ..., 3, 4, 4],\n",
       "       [2, 3, 1, ..., 2, 3, 4],\n",
       "       [3, 1, 4, ..., 2, 4, 1],\n",
       "       ...,\n",
       "       [3, 3, 3, ..., 1, 3, 3],\n",
       "       [3, 2, 3, ..., 1, 1, 1],\n",
       "       [1, 1, 2, ..., 4, 1, 2]])"
      ]
     },
     "execution_count": 2,
     "metadata": {},
     "output_type": "execute_result"
    }
   ],
   "source": [
    "random_points =  np.random.randint(1, 5, size=(150, 150))\n",
    "random_points"
   ]
  },
  {
   "cell_type": "code",
   "execution_count": 3,
   "metadata": {},
   "outputs": [],
   "source": [
    "rands = np.random.random(size=(100,2))*10\n",
    "x, y = rands[:][:,0],rands[:][:,1]\n",
    "a = ((x-5)**2+(y-4)**2-10)**3-11*(x-5)**2*(y-4)**3"
   ]
  },
  {
   "cell_type": "code",
   "execution_count": 4,
   "metadata": {},
   "outputs": [],
   "source": [
    "x = np.round(x, 2)\n",
    "y = np.round(y, 2)"
   ]
  },
  {
   "cell_type": "code",
   "execution_count": 5,
   "metadata": {},
   "outputs": [
    {
     "data": {
      "text/plain": [
       "(150, 150)"
      ]
     },
     "execution_count": 5,
     "metadata": {},
     "output_type": "execute_result"
    }
   ],
   "source": [
    "C.shape"
   ]
  }
 ],
 "metadata": {
  "interpreter": {
   "hash": "369f2c481f4da34e4445cda3fffd2e751bd1c4d706f27375911949ba6bb62e1c"
  },
  "kernelspec": {
   "display_name": "Python 3.10.2 64-bit",
   "language": "python",
   "name": "python3"
  },
  "language_info": {
   "codemirror_mode": {
    "name": "ipython",
    "version": 3
   },
   "file_extension": ".py",
   "mimetype": "text/x-python",
   "name": "python",
   "nbconvert_exporter": "python",
   "pygments_lexer": "ipython3",
   "version": "3.10.2"
  },
  "orig_nbformat": 4
 },
 "nbformat": 4,
 "nbformat_minor": 2
}
