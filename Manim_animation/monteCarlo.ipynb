{
 "cells": [
  {
   "cell_type": "code",
   "execution_count": 23,
   "metadata": {},
   "outputs": [],
   "source": [
    "import numpy as np"
   ]
  },
  {
   "cell_type": "code",
   "execution_count": 24,
   "metadata": {},
   "outputs": [
    {
     "name": "stderr",
     "output_type": "stream",
     "text": [
      "C:\\Users\\Denis Firat\\AppData\\Local\\Temp\\ipykernel_16540\\817822104.py:8: RuntimeWarning: divide by zero encountered in true_divide\n",
      "  t=np.arctan(rand_intY/rand_intX)\n"
     ]
    }
   ],
   "source": [
    "n=1000000\n",
    "box=9\n",
    "r=2\n",
    "rand_intX = np.random.randint(-500000,500000,(n))\n",
    "rand_intY = np.random.randint(-500000,500000,(n))\n",
    "rand_intX=rand_intX*(box/1000000)\n",
    "rand_intY=rand_intY*(box/1000000)\n",
    "t=np.arctan(rand_intY/rand_intX)\n",
    "heartX=r*np.cos(t)\n",
    "heartY=r*np.sin(t)\n",
    "randXY_mod=np.sqrt(np.power(rand_intX,2)+np.power(rand_intY,2))\n",
    "heartXY_mod=np.sqrt(np.power(heartX,2)+np.power(heartY,2))\n",
    "color =(randXY_mod<heartXY_mod)"
   ]
  },
  {
   "cell_type": "code",
   "execution_count": 38,
   "metadata": {},
   "outputs": [
    {
     "name": "stdout",
     "output_type": "stream",
     "text": [
      "1.5707963267948966\n",
      "8.0\n",
      "2.0000000000000004\n",
      "8.246211251235321\n",
      "2.0\n"
     ]
    }
   ],
   "source": [
    "y=0\n",
    "x=0\n",
    "t=np.arctan2(y,x)\n",
    "xc=(16*(np.sin(t))**3)/2\n",
    "yc=(13*np.cos(t)-5*np.cos(2*t)-2*np.cos(3*t)-np.cos(4*t))/2\n",
    "\n",
    "rc=np.sqrt(np.power(xc,2)+np.power(yc,2))\n",
    "rp=np.sqrt(np.power(x,2)+np.power(y,2))\n",
    "print(t)\n",
    "print(xc)\n",
    "print(yc)\n",
    "print(rc)\n",
    "print(rp)"
   ]
  },
  {
   "cell_type": "code",
   "execution_count": 40,
   "metadata": {},
   "outputs": [
    {
     "data": {
      "text/plain": [
       "array([2.35619449])"
      ]
     },
     "execution_count": 40,
     "metadata": {},
     "output_type": "execute_result"
    }
   ],
   "source": [
    "x = np.array([1])\n",
    "y = np.array([-1])\n",
    "np.pi/2-np.arctan2(y, x)"
   ]
  },
  {
   "cell_type": "code",
   "execution_count": 31,
   "metadata": {},
   "outputs": [
    {
     "name": "stdout",
     "output_type": "stream",
     "text": [
      "wynik t:  [0.         0.94200004 1.57079633]\n",
      "Wynik mod punktu: [0.         6.80073525 7.5       ]\n",
      "Wynik mod serca: [2.5        7.30057082 8.24621125]\n"
     ]
    }
   ],
   "source": [
    "n = 3\n",
    "box = 18\n",
    "rand_intX = np.array([0,4,0])\n",
    "rand_intY = np.array([0,5.5,7.5])\n",
    "\n",
    "#rand_intX = rand_intX * (box / 1000000)\n",
    "#rand_intY = rand_intY * (box / 1000000)\n",
    "t = np.arctan2(rand_intY, rand_intX)\n",
    "print(\"wynik t: \",t)\n",
    "\n",
    "heartX = (16 * (np.sin(t)) ** 3) / 2\n",
    "heartY = (13 * np.cos(t) - 5 * np.cos(2 * t) - 2 * np.cos(3 * t) - np.cos(4 * t)) / 2\n",
    "\n",
    "randXY_mod = np.sqrt(np.power(rand_intX, 2) + np.power(rand_intY, 2))\n",
    "heartXY_mod = np.sqrt(np.power(heartX, 2) + np.power(heartY, 2))\n",
    "print(\"Wynik mod punktu:\",randXY_mod)\n",
    "print(\"Wynik mod serca:\",heartXY_mod)\n",
    "dotcolor = randXY_mod < heartXY_mod"
   ]
  },
  {
   "cell_type": "code",
   "execution_count": 44,
   "metadata": {},
   "outputs": [
    {
     "name": "stdout",
     "output_type": "stream",
     "text": [
      "-387.95385452680244\n"
     ]
    }
   ],
   "source": [
    "heartX=(16*(np.sin(t))**3)/2\n",
    "heartY=(13*np.cos(t)-5*np.cos(2*t)-2*np.cos(3*t)-np.cos(4*t))/2-2\n",
    "\n",
    "randXY_mod=np.sqrt(np.power(rand_intX,2)+np.power(rand_intY,2))\n",
    "heartXY_mod=np.sqrt(np.power(heartX,2)+np.power(heartY,2))\n",
    "def pointInPolygon(x1,y1):\n",
    "    t=np.arange(-np.pi,np.pi,np.pi/100)\n",
    "    sumAngle=0\n",
    "    for i, t[i] in enumerate(t):\n",
    "        if i > 0:\n",
    "            x2=(16*(np.sin(ti))**3)/2\n",
    "            y2=(13*np.cos(ti)-5*np.cos(2*ti)-2*np.cos(3*ti)-np.cos(4*ti))/2-2\n",
    "\n",
    "            x3=(16*(np.sin(ti+1))**3)/2\n",
    "            y3=(13*np.cos(ti)-5*np.cos(2*ti)-2*np.cos(3*ti)-np.cos(4*ti))/2-2\n",
    "\n",
    "            m1=np.arctan((y2-y1)/(x2-x1))\n",
    "            m2=np.arctan((y3-y1)/(x3-x1))\n",
    "\n",
    "            sumAngle+=(m2-m1)/(1+m1*m2)\n",
    "    print(sumAngle)\n",
    "pointInPolygon(0,1)"
   ]
  },
  {
   "cell_type": "code",
   "execution_count": 108,
   "metadata": {},
   "outputs": [
    {
     "name": "stdout",
     "output_type": "stream",
     "text": [
      "[0.         1.57079633 3.14159265 4.71238898 6.28318531]\n",
      "---t:  1.5707963267948966\n",
      "---t-1:  0.0\n",
      "x2 1.0\n",
      "y2 0.0\n",
      "x3 6.123233995736766e-17\n",
      "y3 1.0\n",
      "a2 5.81953769817878\n",
      "a3 1.5707963267948966\n",
      "-------angle 4.2487413713838835\n",
      "---t:  3.141592653589793\n",
      "---t-1:  1.5707963267948966\n",
      "x2 6.123233995736766e-17\n",
      "y2 1.0\n",
      "x3 -1.0\n",
      "y3 1.2246467991473532e-16\n",
      "a2 1.5707963267948966\n",
      "a3 3.605240262590599\n",
      "-------angle 2.0344439357957023\n",
      "---t:  4.71238898038469\n",
      "---t-1:  3.141592653589793\n",
      "x2 -1.0\n",
      "y2 1.2246467991473532e-16\n",
      "x3 -1.8369701987210297e-16\n",
      "y3 -1.0\n",
      "a2 3.605240262590599\n",
      "a3 4.71238898038469\n",
      "-------angle 1.1071487177940909\n",
      "---t:  6.283185307179586\n",
      "---t-1:  4.71238898038469\n",
      "x2 -1.8369701987210297e-16\n",
      "y2 -1.0\n",
      "x3 1.0\n",
      "y3 -2.4492935982947064e-16\n",
      "a2 4.71238898038469\n",
      "a3 5.81953769817878\n",
      "-------angle 1.1071487177940904\n",
      "8.497482742767769\n"
     ]
    }
   ],
   "source": [
    "def arctan3(y,x):\n",
    "    if y>=0:\n",
    "        return np.arctan2(y,x)\n",
    "    else:\n",
    "        return(np.pi+np.abs(np.pi+np.arctan2(y,x)))\n",
    "arctan3(0,1)\n",
    "\n",
    "def pointInPolygon(x1,y1):\n",
    "    t=np.arange(0,2*np.pi+np.pi/2,np.pi/2)\n",
    "    print(t)\n",
    "    sumAngle=0\n",
    "    for i, ti in enumerate(t):\n",
    "        if i >0:\n",
    "            x2=np.cos(t[i-1])\n",
    "            y2=np.sin(t[i-1])\n",
    "\n",
    "            x3=np.cos(t[i])\n",
    "            y3=np.sin(t[i])\n",
    "            \n",
    "            a2=arctan3((y2-y1),(x2-x1))\n",
    "            a3=arctan3((y3-y1),(x3-x1))\n",
    "            \n",
    "            angle=np.abs((a3-a2))\n",
    "            print(\"---t: \",t[i])\n",
    "            print(\"---t-1: \",t[i-1])\n",
    "\n",
    "            print(\"x2\",x2)\n",
    "            print(\"y2\",y2)\n",
    "            print(\"x3\",x3)\n",
    "            print(\"y3\",y3)\n",
    "            print(\"a2\",a2)\n",
    "            print(\"a3\",a3)\n",
    "            print(\"-------angle\",angle)\n",
    "            sumAngle+=angle\n",
    "    print(sumAngle)\n",
    "pointInPolygon(0,0.5)"
   ]
  },
  {
   "cell_type": "code",
   "execution_count": 105,
   "metadata": {},
   "outputs": [
    {
     "data": {
      "text/plain": [
       "0.0"
      ]
     },
     "execution_count": 105,
     "metadata": {},
     "output_type": "execute_result"
    }
   ],
   "source": [
    "def arctan3(y,x):\n",
    "    if y>=0:\n",
    "        return np.arctan2(y,x)\n",
    "    else:\n",
    "        return(np.pi+np.abs(np.pi+np.arctan2(y,x)))\n",
    "arctan3(0,1)"
   ]
  },
  {
   "cell_type": "code",
   "execution_count": 117,
   "metadata": {},
   "outputs": [
    {
     "name": "stdout",
     "output_type": "stream",
     "text": [
      "15\n",
      "15\n"
     ]
    }
   ],
   "source": [
    "test=15\n",
    "print(test)\n",
    "def xd():\n",
    "    global test\n",
    "    test=30\n",
    "xd()\n",
    "print(test)"
   ]
  },
  {
   "cell_type": "code",
   "execution_count": 127,
   "metadata": {},
   "outputs": [
    {
     "data": {
      "text/plain": [
       "2"
      ]
     },
     "execution_count": 127,
     "metadata": {},
     "output_type": "execute_result"
    }
   ],
   "source": [
    "dots=2\n",
    "def eloDots():\n",
    "    global dots\n",
    "    return(dots)\n",
    "eloDots()"
   ]
  }
 ],
 "metadata": {
  "interpreter": {
   "hash": "369f2c481f4da34e4445cda3fffd2e751bd1c4d706f27375911949ba6bb62e1c"
  },
  "kernelspec": {
   "display_name": "Python 3.10.2 64-bit",
   "language": "python",
   "name": "python3"
  },
  "language_info": {
   "codemirror_mode": {
    "name": "ipython",
    "version": 3
   },
   "file_extension": ".py",
   "mimetype": "text/x-python",
   "name": "python",
   "nbconvert_exporter": "python",
   "pygments_lexer": "ipython3",
   "version": "3.10.2"
  },
  "orig_nbformat": 4
 },
 "nbformat": 4,
 "nbformat_minor": 2
}
