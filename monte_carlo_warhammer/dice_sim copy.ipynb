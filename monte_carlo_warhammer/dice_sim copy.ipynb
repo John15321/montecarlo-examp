{
 "cells": [
  {
   "cell_type": "code",
   "execution_count": 73,
   "metadata": {},
   "outputs": [],
   "source": [
    "import random\n",
    "import matplotlib.pyplot as plt\n",
    "import numpy as np"
   ]
  },
  {
   "cell_type": "markdown",
   "metadata": {},
   "source": [
    "![title](img/warvsdread.png)"
   ]
  },
  {
   "cell_type": "markdown",
   "metadata": {},
   "source": [
    "![title](img/warstats.png)\n",
    "![title](img/dreadstats.png)"
   ]
  },
  {
   "cell_type": "code",
   "execution_count": 74,
   "metadata": {},
   "outputs": [],
   "source": [
    "class MeleeWeapon:\n",
    "    def __init__(self,name,S,AP,D):\n",
    "        self.name = name\n",
    "        self.S =S \n",
    "        self.AP =AP \n",
    "        self.D =D \n",
    "\n",
    "class Model:\n",
    "    def __init__(self, name, WS, BS, S, T, W, A, SV, ISV):\n",
    "        self.name = name\n",
    "        self.WS = WS\n",
    "        self.BS = BS\n",
    "        self.S = S\n",
    "        self.T = T\n",
    "        self.W = W\n",
    "        self.A = A\n",
    "        self.SV = SV\n",
    "        self.ISV = ISV\n",
    "        self.Mweapon = MeleeWeapon(\"Power klaw\",8,-2,2)\n",
    "    def makeMeleeAtack(self,T,SV,ISV):\n",
    "        attacks=np.random.randint(1,7,np.sum(np.random.randint(1,4,10)))\n",
    "        attacks_hited = np.count_nonzero(attacks>=self.WS)\n",
    "        wounding_attacks = np.random.randint(1,7,attacks_hited)\n",
    "        attacks_wound = (self.Mweapon.S>=2*T)*np.count_nonzero(wounding_attacks>=2)+(self.Mweapon.S>=T)*(self.Mweapon.S<2*T)*np.count_nonzero(wounding_attacks>=3)+(self.Mweapon.S==T)*np.count_nonzero(wounding_attacks==4)+(self.Mweapon.S<T)*(self.Mweapon.S>T/2)*np.count_nonzero(wounding_attacks>=5) +(self.Mweapon.S<=T/2)*6\n",
    "        saving_rolls=np.random.randint(1,7,attacks_wound)\n",
    "        unsaved_attacks=np.count_nonzero(saving_rolls<min((SV-self.Mweapon.AP),ISV))\n",
    "        damage=unsaved_attacks*self.Mweapon.D\n",
    "        results = {\n",
    "            \"attack_roll\":attacks,\n",
    "            \"attacks_hitted\":attacks_hited,\n",
    "            \"wound_rolls\":wounding_attacks,\n",
    "            \"attacks_wounded\":attacks_wound,\n",
    "            \"save_roll\":saving_rolls,\n",
    "            \"unsaved_attacks\":unsaved_attacks,\n",
    "            \"total_damage\":damage\n",
    "\n",
    "\n",
    "        }\n",
    "        return results\n"
   ]
  },
  {
   "cell_type": "code",
   "execution_count": 75,
   "metadata": {},
   "outputs": [
    {
     "name": "stdout",
     "output_type": "stream",
     "text": [
      "20\n"
     ]
    }
   ],
   "source": [
    "print(np.sum(np.random.randint(1,4,10)))"
   ]
  },
  {
   "cell_type": "code",
   "execution_count": 76,
   "metadata": {},
   "outputs": [],
   "source": [
    "warboss = Model(\"Warboss\",6,5,6,6,6,5,4,5)\n",
    "dreadnought = Model(\"Dreadnought\",3,3,7,7,13,4,3,7)\n",
    "n = 100000\n",
    "simulation_hitted = np.array([])\n",
    "simulation_wounded = np.array([])\n",
    "simulation_unsaved = np.array([])\n",
    "simulation_damage = np.array([])\n",
    "for x in range(n):\n",
    "    sim=(warboss.makeMeleeAtack(dreadnought.T,dreadnought.SV,dreadnought.ISV))\n",
    "    simulation_hitted=np.append(simulation_hitted,sim[\"attacks_hitted\"])\n",
    "    simulation_wounded=np.append(simulation_wounded,sim[\"attacks_wounded\"])\n",
    "    simulation_unsaved=np.append(simulation_unsaved,sim[\"unsaved_attacks\"])\n",
    "    simulation_damage=np.append(simulation_damage,sim[\"total_damage\"])\n"
   ]
  },
  {
   "cell_type": "code",
   "execution_count": 77,
   "metadata": {},
   "outputs": [
    {
     "data": {
      "image/png": "[encoded data removed]",
      "text/plain": [
       "<Figure size 432x288 with 1 Axes>"
      ]
     },
     "metadata": {
      "needs_background": "light"
     },
     "output_type": "display_data"
    }
   ],
   "source": [
    "d = np.diff(np.unique(simulation_hitted)).min()\n",
    "left_of_first_bin = 0 - float(d)/2\n",
    "right_of_last_bin = simulation_hitted.max() + float(d)/2\n",
    "plt.hist(simulation_hitted, np.arange(left_of_first_bin, right_of_last_bin + d, d),density=True,rwidth=0.9)\n",
    "plt.title(\"Ilość ataków, które trafiły\")\n",
    "plt.show()"
   ]
  },
  {
   "cell_type": "code",
   "execution_count": 78,
   "metadata": {},
   "outputs": [
    {
     "data": {
      "image/png": "[encoded data removed]",
      "text/plain": [
       "<Figure size 432x288 with 1 Axes>"
      ]
     },
     "metadata": {
      "needs_background": "light"
     },
     "output_type": "display_data"
    }
   ],
   "source": [
    "d = np.diff(np.unique(simulation_wounded)).min()\n",
    "left_of_first_bin = 0 - float(d)/2\n",
    "right_of_last_bin = simulation_wounded.max() + float(d)/2\n",
    "plt.hist(simulation_wounded, np.arange(left_of_first_bin, right_of_last_bin + d, d),density=True,rwidth=0.9)\n",
    "plt.title(\"Ilość ataków, które zraniły\")\n",
    "plt.show()"
   ]
  },
  {
   "cell_type": "code",
   "execution_count": 79,
   "metadata": {},
   "outputs": [
    {
     "data": {
      "image/png": "[encoded data removed]",
      "text/plain": [
       "<Figure size 432x288 with 1 Axes>"
      ]
     },
     "metadata": {
      "needs_background": "light"
     },
     "output_type": "display_data"
    }
   ],
   "source": [
    "d = np.diff(np.unique(simulation_unsaved)).min()\n",
    "left_of_first_bin = 0 - float(d)/2\n",
    "right_of_last_bin = simulation_unsaved.max() + float(d)/2\n",
    "plt.hist(simulation_unsaved, np.arange(left_of_first_bin, right_of_last_bin + d, d),density=True,rwidth=0.9)\n",
    "plt.title(\"Ilość ataków, które przeszły przez pancerz\")\n",
    "plt.show()"
   ]
  },
  {
   "cell_type": "code",
   "execution_count": 80,
   "metadata": {},
   "outputs": [
    {
     "data": {
      "image/png": "[encoded data removed]",
      "text/plain": [
       "<Figure size 432x288 with 1 Axes>"
      ]
     },
     "metadata": {
      "needs_background": "light"
     },
     "output_type": "display_data"
    }
   ],
   "source": [
    "\n",
    "labels, counts = np.unique(simulation_damage, return_counts=True)\n",
    "counts=counts/len(simulation_damage)\n",
    "plt.bar(labels, counts, align='center',width=1.5)\n",
    "plt.gca().set_xticks(labels)\n",
    "plt.title(\"Zadane obrażenia\")\n",
    "plt.show()\n"
   ]
  }
 ],
 "metadata": {
  "interpreter": {
   "hash": "369f2c481f4da34e4445cda3fffd2e751bd1c4d706f27375911949ba6bb62e1c"
  },
  "kernelspec": {
   "display_name": "Python 3.10.2 64-bit",
   "language": "python",
   "name": "python3"
  },
  "language_info": {
   "codemirror_mode": {
    "name": "ipython",
    "version": 3
   },
   "file_extension": ".py",
   "mimetype": "text/x-python",
   "name": "python",
   "nbconvert_exporter": "python",
   "pygments_lexer": "ipython3",
   "version": "3.10.2"
  },
  "orig_nbformat": 4
 },
 "nbformat": 4,
 "nbformat_minor": 2
}
